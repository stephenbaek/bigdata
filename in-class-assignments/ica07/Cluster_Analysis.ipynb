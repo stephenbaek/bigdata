{
 "cells": [
  {
   "cell_type": "markdown",
   "metadata": {
    "colab_type": "text",
    "id": "ECVON7mE-whX"
   },
   "source": [
    "< [Distance and Similarity](../ica06/Distance_and_Similarity.ipynb) | Contents (TODO) |  [Neural Networks](../ica08/Neural_Networks.ipynb) >\n",
    "\n",
    "<a href=\"https://colab.research.google.com/github/stephenbaek/bigdata/blob/master/in-class-assignments/ica07/Cluster_Analysis.ipynb\"><img align=\"left\" src=\"https://colab.research.google.com/assets/colab-badge.svg\" alt=\"Open in Colab\" title=\"Open and Execute in Google Colaboratory\"></a>"
   ]
  },
  {
   "cell_type": "markdown",
   "metadata": {
    "colab_type": "text",
    "id": "oyVNuRfc-whb"
   },
   "source": [
    "# k-means Clustering and the Lloyd's Algorithm\n",
    "\n",
    "Clustering algorithms are a category of unsupervised learning algorithms which seek to learn an optimal grouping of data points. One of the most widely used clustering algorithms is known as *k-means clustering*. k-means clustering algorithm is a typical example of NP-hard problem, whose solution is unknown. Luckily, a method called the *Lloyd's algorithm* is known to converge to a local minimum of the solution (not the global minimum though) and can be quite useful in many cases."
   ]
  },
  {
   "cell_type": "markdown",
   "metadata": {
    "colab_type": "text",
    "id": "yjfNDUwGBd5p"
   },
   "source": [
    "To begin with, we first generate some simulated data samples using `make_blobs` function available in Scikit-Learn."
   ]
  },
  {
   "cell_type": "code",
   "execution_count": 0,
   "metadata": {
    "colab": {},
    "colab_type": "code",
    "collapsed": true,
    "id": "Ijy06oA0BUyV"
   },
   "outputs": [],
   "source": [
    "from sklearn.datasets.samples_generator import make_blobs\n",
    "import matplotlib.pyplot as plt\n",
    "\n",
    "N = 1000\n",
    "\n",
    "x, y = make_blobs(n_samples=N, centers=3, cluster_std=0.5, random_state=0)\n",
    "plt.scatter(x[:, 0], x[:, 1]);"
   ]
  },
  {
   "cell_type": "markdown",
   "metadata": {
    "colab_type": "text",
    "id": "9tqeUfXGCGS6"
   },
   "source": [
    "As the name indicates, k-means clustering algorithm seeks to find '*means*' or '*centroids*' for k of each cluster. Here, we define three centroids that are randomly initialized."
   ]
  },
  {
   "cell_type": "code",
   "execution_count": 0,
   "metadata": {
    "colab": {},
    "colab_type": "code",
    "collapsed": true,
    "id": "bRyK0T9sCF_a"
   },
   "outputs": [],
   "source": [
    "import numpy as np\n",
    "\n",
    "K = 3    # user-defined parameter k\n",
    "\n",
    "centroids = np.random.uniform(-3, 3, size=(K, 2))\n",
    "plt.scatter(x[:, 0], x[:, 1]);\n",
    "plt.scatter(centroids[:, 0], centroids[:, 1], c='black', s=300, alpha=0.5);"
   ]
  },
  {
   "cell_type": "markdown",
   "metadata": {
    "colab_type": "text",
    "id": "sL7LbleIDR2z"
   },
   "source": [
    "With the centroids initialized as above, we can now evaluate the cluster membership of each data point based on their distances to the centroids."
   ]
  },
  {
   "cell_type": "code",
   "execution_count": 0,
   "metadata": {
    "colab": {},
    "colab_type": "code",
    "collapsed": true,
    "id": "FCplm32JB8rT"
   },
   "outputs": [],
   "source": [
    "y_pred = -np.ones(N)\n",
    "for i in range(N):\n",
    "  d = np.zeros(K)\n",
    "  for j in range(K):\n",
    "    d[j] = np.sqrt(np.sum((x[i] - centroids[j])**2))\n",
    "  y_pred[i] = np.argmin(d)\n",
    "\n",
    "  \n",
    "plt.scatter(x[:, 0], x[:, 1], c = y_pred);\n",
    "plt.scatter(centroids[:, 0], centroids[:, 1], c='black', s=300, alpha=0.5);"
   ]
  },
  {
   "cell_type": "markdown",
   "metadata": {
    "colab_type": "text",
    "id": "l2AmF2cCE7B6"
   },
   "source": [
    "Now, based on the cluster membership, we will update the positions of the centroids: to the real center of the cluster, not the randomly initialized positions. The code below does the update:"
   ]
  },
  {
   "cell_type": "code",
   "execution_count": 0,
   "metadata": {
    "colab": {},
    "colab_type": "code",
    "collapsed": true,
    "id": "wZkFepoBDxuL"
   },
   "outputs": [],
   "source": [
    "for i in range(K):\n",
    "  centroids[i] = [0, 0]\n",
    "  \n",
    "for i in range(N):\n",
    "  centroids[ int(y_pred[i]) ] += x[i]\n",
    "\n",
    "for i in range(K):\n",
    "  centroids[i] /= np.sum(y_pred == i)\n",
    "\n",
    "plt.scatter(x[:, 0], x[:, 1], c = y_pred);\n",
    "plt.scatter(centroids[:, 0], centroids[:, 1], c='black', s=300, alpha=0.5);"
   ]
  },
  {
   "cell_type": "markdown",
   "metadata": {
    "colab_type": "text",
    "id": "pNTd_IVUF7ge"
   },
   "source": [
    "Now, the displacement of the centroids causes the change of the group membership. So we copy and paste the group membership code a few cells above and reuse it below. Notice the updated membership."
   ]
  },
  {
   "cell_type": "code",
   "execution_count": 0,
   "metadata": {
    "colab": {},
    "colab_type": "code",
    "collapsed": true,
    "id": "p946c4ejF7Fz"
   },
   "outputs": [],
   "source": [
    "y_pred = -np.ones(N)\n",
    "for i in range(N):\n",
    "  d = np.zeros(K)\n",
    "  for j in range(K):\n",
    "    d[j] = np.sqrt(np.sum((x[i] - centroids[j])**2))\n",
    "  y_pred[i] = np.argmin(d)\n",
    "\n",
    "  \n",
    "plt.scatter(x[:, 0], x[:, 1], c = y_pred);\n",
    "plt.scatter(centroids[:, 0], centroids[:, 1], c='black', s=300, alpha=0.5);"
   ]
  },
  {
   "cell_type": "markdown",
   "metadata": {
    "colab_type": "text",
    "id": "obfKBbCTGVqQ"
   },
   "source": [
    "Again, the change of group membership requires update of centroid locations. Similar to the above, we will copy and paste exactly the same code we used earlier."
   ]
  },
  {
   "cell_type": "code",
   "execution_count": 0,
   "metadata": {
    "colab": {},
    "colab_type": "code",
    "collapsed": true,
    "id": "hP0VwY79GlD4"
   },
   "outputs": [],
   "source": [
    "for i in range(K):\n",
    "  centroids[i] = [0, 0]\n",
    "  \n",
    "for i in range(N):\n",
    "  centroids[ int(y_pred[i]) ] += x[i]\n",
    "\n",
    "for i in range(K):\n",
    "  centroids[i] /= np.sum(y_pred == i)\n",
    "\n",
    "plt.scatter(x[:, 0], x[:, 1], c = y_pred);\n",
    "plt.scatter(centroids[:, 0], centroids[:, 1], c='black', s=300, alpha=0.5);"
   ]
  },
  {
   "cell_type": "markdown",
   "metadata": {
    "colab_type": "text",
    "id": "Mp0RxvWNGnnG"
   },
   "source": [
    "You may now realize that the clusters are being updated and the algorithm begins to group the data correctly. As such, k-means clustering algorithm (Lloyd's algorithm) is simply a repetition of the membership update and centroid update back and forth. Therefore, we may benefit from modularizing the above code cells into functions:"
   ]
  },
  {
   "cell_type": "code",
   "execution_count": 0,
   "metadata": {
    "colab": {},
    "colab_type": "code",
    "collapsed": true,
    "id": "3Zi0vM94HF_C"
   },
   "outputs": [],
   "source": [
    "# Assignment: Implement functions to modularize the above steps of the Lloyd's algorithm.\n",
    "def update_membership(points, centers):\n",
    "  # YOUR CODE HERE\n",
    "  return clusters\n",
    "\n",
    "def update_centroids(points, clusters):\n",
    "  # YOUR CODE HERE\n",
    "  return centers\n",
    "\n",
    "def plot_clusters(points, clusters, centers):\n",
    "  plt.scatter(points[:, 0], points[:, 1], c = clusters);\n",
    "  plt.scatter(centers[:, 0], centers[:, 1], c='black', s=300, alpha=0.5);\n"
   ]
  },
  {
   "cell_type": "markdown",
   "metadata": {
    "colab_type": "text",
    "id": "c9duMhgaIa_W"
   },
   "source": [
    "Now, with the functions defined above, we can run the cell below multiple times (just hit the play button one after another) to complete the Lloyd's algorithm. Each time you run it, see how the cluster updates."
   ]
  },
  {
   "cell_type": "code",
   "execution_count": 0,
   "metadata": {
    "colab": {},
    "colab_type": "code",
    "collapsed": true,
    "id": "lVU67_uzHfRs"
   },
   "outputs": [],
   "source": [
    "y_pred = update_membership(x, centroids)\n",
    "centroids = update_centroids(x, y_pred)\n",
    "plot_clusters(x, y_pred, centroids)"
   ]
  },
  {
   "cell_type": "markdown",
   "metadata": {
    "colab_type": "text",
    "id": "dS5pJ0oCx1oL"
   },
   "source": [
    "Finally, we just need one more component: some criteria to check when to terminate the iteration.\n",
    "\n",
    "**Assignment** Search online for the convergence criteria of the Lloyd's algorithm. Implement a function named `kmeans(points, k)` that internally calls `update_membership` and `update_centroids` functions above, repeatedly. In the implementation, let the function determine when the convergence is achieved and terminate.\n"
   ]
  },
  {
   "cell_type": "markdown",
   "metadata": {
    "colab_type": "text",
    "id": "2sbl92kW-wkE"
   },
   "source": [
    "< [Distance and Similarity](../ica06/Distance_and_Similarity.ipynb) | Contents (TODO) |  [Neural Networks](../ica08/Neural_Networks.ipynb) >\n",
    "\n",
    "<a href=\"https://colab.research.google.com/github/stephenbaek/bigdata/blob/master/in-class-assignments/ica07/Cluster_Analysis.ipynb\"><img align=\"left\" src=\"https://colab.research.google.com/assets/colab-badge.svg\" alt=\"Open in Colab\" title=\"Open and Execute in Google Colaboratory\"></a>"
   ]
  }
 ],
 "metadata": {
  "anaconda-cloud": {},
  "colab": {
   "collapsed_sections": [],
   "name": "Copy of 05.11-K-Means.ipynb",
   "provenance": []
  },
  "kernelspec": {
   "display_name": "Python [default]",
   "language": "python",
   "name": "python3"
  },
  "language_info": {
   "codemirror_mode": {
    "name": "ipython",
    "version": 3
   },
   "file_extension": ".py",
   "mimetype": "text/x-python",
   "name": "python",
   "nbconvert_exporter": "python",
   "pygments_lexer": "ipython3",
   "version": "3.6.2"
  }
 },
 "nbformat": 4,
 "nbformat_minor": 1
}
