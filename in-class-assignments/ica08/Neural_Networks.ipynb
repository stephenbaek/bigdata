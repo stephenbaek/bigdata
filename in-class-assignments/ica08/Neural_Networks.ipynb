{
 "cells": [
  {
   "cell_type": "markdown",
   "metadata": {},
   "source": [
    "< [Distance and Similarity](../ica07/Cluster_Analysis.ipynb) | Contents (TODO)\n",
    "\n",
    "<a href=\"https://colab.research.google.com/github/stephenbaek/bigdata/blob/master/in-class-assignments/ica08/Neural_Networks.ipynb\"><img align=\"left\" src=\"https://colab.research.google.com/assets/colab-badge.svg\" alt=\"Open in Colab\" title=\"Open and Execute in Google Colaboratory\"></a>"
   ]
  },
  {
   "cell_type": "markdown",
   "metadata": {},
   "source": [
    "# Introduction to Artificial Neural Networks\n",
    "\n",
    "Artificial neural networks (ANN) have been around since 1950's but they gained popularity only very recently. ANNs are, in some sense, a stack of linear systems of equations, connected via a *computational graph*. The basic building block of ANNs is a neural network layer, representing a unit comprised of a linear system of equations. By connecting these layers, you can \"design\" an architecture of a neural network model. "
   ]
  },
  {
   "cell_type": "markdown",
   "metadata": {},
   "source": [
    "## 1. TensorFlow\n",
    "\n",
    "There are many software packages with pre-defined neural network functions. One of the most popular neural network packages is `TensorFlow`. TensorFlow was initially conceived as an internal project at Google, but it became an open source project from 2015. Since then, with the hype of deep learning research, TensorFlow has been vigorously used by research communities and industry, enabling the creation of a large number of project. In this lab, we will take a look at some of the basics of TensorFlow."
   ]
  },
  {
   "cell_type": "markdown",
   "metadata": {},
   "source": [
    "### 1.1. Installation\n",
    "(IF YOU'RE USING COLAB, YOU CAN SKIP THIS STEP)\n",
    "\n",
    "For the installation of TensorFlow, most of the cases, you can simply type `pip install tensorflow`. There is a GPU accelerated version of TensorFlow available, and can be installed via `pip install tensorflow-gpu`. For the GPU installation, you need CUDA and CuDNN installed on your computer. For the details, consult https://www.tensorflow.org/install. TensorFlow is a large library with many dependencies and subpackages, so the installation may take a while."
   ]
  },
  {
   "cell_type": "code",
   "execution_count": 1,
   "metadata": {},
   "outputs": [
    {
     "name": "stdout",
     "output_type": "stream",
     "text": [
      "Collecting tensorflow\n",
      "  Downloading https://files.pythonhosted.org/packages/54/5f/e1b2d83b808f978f51b7ce109315154da3a3d4151aa59686002681f2e109/tensorflow-2.0.0-cp37-cp37m-win_amd64.whl (48.1MB)\n",
      "Requirement already satisfied: grpcio>=1.8.6 in c:\\users\\sibwo\\anaconda3\\envs\\bigdata\\lib\\site-packages (from tensorflow) (1.25.0)\n",
      "Requirement already satisfied: wrapt>=1.11.1 in c:\\users\\sibwo\\anaconda3\\envs\\bigdata\\lib\\site-packages (from tensorflow) (1.11.2)\n",
      "Requirement already satisfied: tensorboard<2.1.0,>=2.0.0 in c:\\users\\sibwo\\anaconda3\\envs\\bigdata\\lib\\site-packages (from tensorflow) (2.0.1)\n",
      "Requirement already satisfied: six>=1.10.0 in c:\\users\\sibwo\\anaconda3\\envs\\bigdata\\lib\\site-packages (from tensorflow) (1.12.0)\n",
      "Requirement already satisfied: wheel>=0.26 in c:\\users\\sibwo\\anaconda3\\envs\\bigdata\\lib\\site-packages (from tensorflow) (0.33.4)\n",
      "Requirement already satisfied: protobuf>=3.6.1 in c:\\users\\sibwo\\anaconda3\\envs\\bigdata\\lib\\site-packages (from tensorflow) (3.10.0)\n",
      "Requirement already satisfied: termcolor>=1.1.0 in c:\\users\\sibwo\\anaconda3\\envs\\bigdata\\lib\\site-packages (from tensorflow) (1.1.0)\n",
      "Requirement already satisfied: keras-applications>=1.0.8 in c:\\users\\sibwo\\anaconda3\\envs\\bigdata\\lib\\site-packages (from tensorflow) (1.0.8)\n",
      "Requirement already satisfied: absl-py>=0.7.0 in c:\\users\\sibwo\\anaconda3\\envs\\bigdata\\lib\\site-packages (from tensorflow) (0.8.1)\n",
      "Requirement already satisfied: keras-preprocessing>=1.0.5 in c:\\users\\sibwo\\anaconda3\\envs\\bigdata\\lib\\site-packages (from tensorflow) (1.1.0)\n",
      "Requirement already satisfied: numpy<2.0,>=1.16.0 in c:\\users\\sibwo\\anaconda3\\envs\\bigdata\\lib\\site-packages (from tensorflow) (1.17.1)\n",
      "Requirement already satisfied: google-pasta>=0.1.6 in c:\\users\\sibwo\\anaconda3\\envs\\bigdata\\lib\\site-packages (from tensorflow) (0.1.8)\n",
      "Requirement already satisfied: opt-einsum>=2.3.2 in c:\\users\\sibwo\\anaconda3\\envs\\bigdata\\lib\\site-packages (from tensorflow) (3.1.0)\n",
      "Requirement already satisfied: gast==0.2.2 in c:\\users\\sibwo\\anaconda3\\envs\\bigdata\\lib\\site-packages (from tensorflow) (0.2.2)\n",
      "Requirement already satisfied: astor>=0.6.0 in c:\\users\\sibwo\\anaconda3\\envs\\bigdata\\lib\\site-packages (from tensorflow) (0.8.0)\n",
      "Requirement already satisfied: tensorflow-estimator<2.1.0,>=2.0.0 in c:\\users\\sibwo\\anaconda3\\envs\\bigdata\\lib\\site-packages (from tensorflow) (2.0.1)\n",
      "Requirement already satisfied: setuptools>=41.0.0 in c:\\users\\sibwo\\anaconda3\\envs\\bigdata\\lib\\site-packages (from tensorboard<2.1.0,>=2.0.0->tensorflow) (41.0.1)\n",
      "Requirement already satisfied: google-auth<2,>=1.6.3 in c:\\users\\sibwo\\anaconda3\\envs\\bigdata\\lib\\site-packages (from tensorboard<2.1.0,>=2.0.0->tensorflow) (1.7.0)\n",
      "Requirement already satisfied: markdown>=2.6.8 in c:\\users\\sibwo\\anaconda3\\envs\\bigdata\\lib\\site-packages (from tensorboard<2.1.0,>=2.0.0->tensorflow) (3.1.1)\n",
      "Requirement already satisfied: google-auth-oauthlib<0.5,>=0.4.1 in c:\\users\\sibwo\\anaconda3\\envs\\bigdata\\lib\\site-packages (from tensorboard<2.1.0,>=2.0.0->tensorflow) (0.4.1)\n",
      "Requirement already satisfied: werkzeug>=0.11.15 in c:\\users\\sibwo\\anaconda3\\envs\\bigdata\\lib\\site-packages (from tensorboard<2.1.0,>=2.0.0->tensorflow) (0.16.0)\n",
      "Requirement already satisfied: h5py in c:\\users\\sibwo\\anaconda3\\envs\\bigdata\\lib\\site-packages (from keras-applications>=1.0.8->tensorflow) (2.10.0)\n",
      "Requirement already satisfied: rsa<4.1,>=3.1.4 in c:\\users\\sibwo\\anaconda3\\envs\\bigdata\\lib\\site-packages (from google-auth<2,>=1.6.3->tensorboard<2.1.0,>=2.0.0->tensorflow) (4.0)\n",
      "Requirement already satisfied: cachetools<3.2,>=2.0.0 in c:\\users\\sibwo\\anaconda3\\envs\\bigdata\\lib\\site-packages (from google-auth<2,>=1.6.3->tensorboard<2.1.0,>=2.0.0->tensorflow) (3.1.1)\n",
      "Requirement already satisfied: pyasn1-modules>=0.2.1 in c:\\users\\sibwo\\anaconda3\\envs\\bigdata\\lib\\site-packages (from google-auth<2,>=1.6.3->tensorboard<2.1.0,>=2.0.0->tensorflow) (0.2.7)\n",
      "Requirement already satisfied: requests-oauthlib>=0.7.0 in c:\\users\\sibwo\\anaconda3\\envs\\bigdata\\lib\\site-packages (from google-auth-oauthlib<0.5,>=0.4.1->tensorboard<2.1.0,>=2.0.0->tensorflow) (1.3.0)\n",
      "Requirement already satisfied: pyasn1>=0.1.3 in c:\\users\\sibwo\\anaconda3\\envs\\bigdata\\lib\\site-packages (from rsa<4.1,>=3.1.4->google-auth<2,>=1.6.3->tensorboard<2.1.0,>=2.0.0->tensorflow) (0.4.7)\n",
      "Requirement already satisfied: oauthlib>=3.0.0 in c:\\users\\sibwo\\anaconda3\\envs\\bigdata\\lib\\site-packages (from requests-oauthlib>=0.7.0->google-auth-oauthlib<0.5,>=0.4.1->tensorboard<2.1.0,>=2.0.0->tensorflow) (3.1.0)\n",
      "Requirement already satisfied: requests>=2.0.0 in c:\\users\\sibwo\\anaconda3\\envs\\bigdata\\lib\\site-packages (from requests-oauthlib>=0.7.0->google-auth-oauthlib<0.5,>=0.4.1->tensorboard<2.1.0,>=2.0.0->tensorflow) (2.22.0)\n",
      "Requirement already satisfied: urllib3!=1.25.0,!=1.25.1,<1.26,>=1.21.1 in c:\\users\\sibwo\\anaconda3\\envs\\bigdata\\lib\\site-packages (from requests>=2.0.0->requests-oauthlib>=0.7.0->google-auth-oauthlib<0.5,>=0.4.1->tensorboard<2.1.0,>=2.0.0->tensorflow) (1.25.3)\n",
      "Requirement already satisfied: certifi>=2017.4.17 in c:\\users\\sibwo\\anaconda3\\envs\\bigdata\\lib\\site-packages (from requests>=2.0.0->requests-oauthlib>=0.7.0->google-auth-oauthlib<0.5,>=0.4.1->tensorboard<2.1.0,>=2.0.0->tensorflow) (2019.6.16)\n",
      "Requirement already satisfied: chardet<3.1.0,>=3.0.2 in c:\\users\\sibwo\\anaconda3\\envs\\bigdata\\lib\\site-packages (from requests>=2.0.0->requests-oauthlib>=0.7.0->google-auth-oauthlib<0.5,>=0.4.1->tensorboard<2.1.0,>=2.0.0->tensorflow) (3.0.4)\n",
      "Requirement already satisfied: idna<2.9,>=2.5 in c:\\users\\sibwo\\anaconda3\\envs\\bigdata\\lib\\site-packages (from requests>=2.0.0->requests-oauthlib>=0.7.0->google-auth-oauthlib<0.5,>=0.4.1->tensorboard<2.1.0,>=2.0.0->tensorflow) (2.8)\n",
      "Installing collected packages: tensorflow\n",
      "Successfully installed tensorflow-2.0.0\n"
     ]
    }
   ],
   "source": [
    "# You DO NOT need to run this cell if you're running this notebook on Colab.\n",
    "# This take some time. Be patient...\n",
    "!pip install tensorflow\n",
    "#!pip install tensorflow-gpu  # to install GPU version, comment the above line and uncomment this line instead."
   ]
  },
  {
   "cell_type": "markdown",
   "metadata": {},
   "source": [
    "### 1.2. Getting Started\n",
    "TensorFlow can be imported by simply calling `import tensorflow as tf`. "
   ]
  },
  {
   "cell_type": "code",
   "execution_count": 3,
   "metadata": {
    "colab": {},
    "colab_type": "code",
    "id": "PLkhRZBT6d8b"
   },
   "outputs": [
    {
     "data": {
      "text/plain": [
       "'2.0.0'"
      ]
     },
     "execution_count": 3,
     "metadata": {},
     "output_type": "execute_result"
    }
   ],
   "source": [
    "import tensorflow as tf\n",
    "tf.__version__"
   ]
  },
  {
   "cell_type": "markdown",
   "metadata": {},
   "source": [
    "To some extent, TensorFlow is similar to NumPy:"
   ]
  },
  {
   "cell_type": "code",
   "execution_count": 5,
   "metadata": {},
   "outputs": [
    {
     "name": "stdout",
     "output_type": "stream",
     "text": [
      "tf.Tensor(7, shape=(), dtype=int32)\n"
     ]
    }
   ],
   "source": [
    "a = 3\n",
    "b = 4\n",
    "c = tf.add(a, b)\n",
    "print(c)"
   ]
  },
  {
   "cell_type": "markdown",
   "metadata": {},
   "source": [
    "Note that the return type of the above code is `tf.Tensor`. Tensors are, mathematically, generalization of vectors and matrices to arbitrary dimensions. Many of the neural network computations are formulated based on tensors. To convert a tensor value to a numpy array, you can call:"
   ]
  },
  {
   "cell_type": "code",
   "execution_count": 6,
   "metadata": {},
   "outputs": [
    {
     "data": {
      "text/plain": [
       "7"
      ]
     },
     "execution_count": 6,
     "metadata": {},
     "output_type": "execute_result"
    }
   ],
   "source": [
    "c.numpy()"
   ]
  },
  {
   "cell_type": "markdown",
   "metadata": {},
   "source": [
    "## 2. MNIST Hand-written Digit Recognition\n",
    "\n",
    "Modified National Institute of Science and Technology Hand-written Digit Data Set (MNIST) is one of the most popular \"hello world\" data set for data scientists. It is comprised of  "
   ]
  },
  {
   "cell_type": "code",
   "execution_count": 0,
   "metadata": {
    "colab": {},
    "colab_type": "code",
    "collapsed": true,
    "id": "PlShgiho6KCU"
   },
   "outputs": [],
   "source": [
    "import numpy as np\n",
    "import matplotlib.pyplot as plt"
   ]
  },
  {
   "cell_type": "code",
   "execution_count": 0,
   "metadata": {
    "colab": {},
    "colab_type": "code",
    "collapsed": true,
    "id": "P33jaV7c6mwa"
   },
   "outputs": [],
   "source": [
    "(X_train, Y_train), (X_test, Y_test) = tf.keras.datasets.mnist.load_data()\n",
    "X_train = X_train / 255.0\n",
    "X_test = X_test / 255.0"
   ]
  },
  {
   "cell_type": "code",
   "execution_count": 0,
   "metadata": {
    "colab": {
     "base_uri": "https://localhost:8080/",
     "height": 286
    },
    "colab_type": "code",
    "id": "q9lBC6sm-Ofy",
    "outputId": "b6f60871-7a1d-4ff3-e0b1-0365e7be26e6"
   },
   "outputs": [
    {
     "data": {
      "text/plain": [
       "<matplotlib.image.AxesImage at 0x7f43627d6668>"
      ]
     },
     "execution_count": 20,
     "metadata": {
      "tags": []
     },
     "output_type": "execute_result"
    },
    {
     "data": {
      "image/png": "[encoded data removed]",
      "text/plain": [
       "<Figure size 432x288 with 1 Axes>"
      ]
     },
     "metadata": {
      "tags": []
     },
     "output_type": "display_data"
    }
   ],
   "source": [
    "plt.imshow(X_train[0], cmap='gray')"
   ]
  },
  {
   "cell_type": "code",
   "execution_count": 0,
   "metadata": {
    "colab": {
     "base_uri": "https://localhost:8080/",
     "height": 255
    },
    "colab_type": "code",
    "id": "i8ISfr8O64HE",
    "outputId": "36167f81-c560-4edb-db8f-5c64a24b6d7d"
   },
   "outputs": [
    {
     "name": "stdout",
     "output_type": "stream",
     "text": [
      "Model: \"sequential_2\"\n",
      "_________________________________________________________________\n",
      "Layer (type)                 Output Shape              Param #   \n",
      "=================================================================\n",
      "flatten (Flatten)            (None, 784)               0         \n",
      "_________________________________________________________________\n",
      "dense (Dense)                (None, 200)               157000    \n",
      "_________________________________________________________________\n",
      "dense_1 (Dense)              (None, 10)                2010      \n",
      "=================================================================\n",
      "Total params: 159,010\n",
      "Trainable params: 159,010\n",
      "Non-trainable params: 0\n",
      "_________________________________________________________________\n"
     ]
    }
   ],
   "source": [
    "model = tf.keras.models.Sequential()\n",
    "model.add( tf.keras.layers.Flatten(input_shape=(28,28)) )\n",
    "model.add( tf.keras.layers.Dense(200, activation='sigmoid') )\n",
    "model.add( tf.keras.layers.Dense(10, activation='softmax') )\n",
    "model.summary()"
   ]
  },
  {
   "cell_type": "code",
   "execution_count": 0,
   "metadata": {
    "colab": {
     "base_uri": "https://localhost:8080/",
     "height": 221
    },
    "colab_type": "code",
    "id": "STDf5ITk8Hfg",
    "outputId": "db799867-8e2f-467a-de30-12b09a945067"
   },
   "outputs": [
    {
     "name": "stdout",
     "output_type": "stream",
     "text": [
      "Train on 60000 samples\n",
      "Epoch 1/5\n",
      "60000/60000 [==============================] - 6s 104us/sample - loss: 1.3918 - acc: 0.7087\n",
      "Epoch 2/5\n",
      "60000/60000 [==============================] - 5s 89us/sample - loss: 0.6753 - acc: 0.8502\n",
      "Epoch 3/5\n",
      "60000/60000 [==============================] - 5s 87us/sample - loss: 0.5090 - acc: 0.8737\n",
      "Epoch 4/5\n",
      "60000/60000 [==============================] - 5s 87us/sample - loss: 0.4391 - acc: 0.8853\n",
      "Epoch 5/5\n",
      "60000/60000 [==============================] - 5s 86us/sample - loss: 0.4005 - acc: 0.8915\n"
     ]
    },
    {
     "data": {
      "text/plain": [
       "<tensorflow.python.keras.callbacks.History at 0x7f436b835860>"
      ]
     },
     "execution_count": 13,
     "metadata": {
      "tags": []
     },
     "output_type": "execute_result"
    }
   ],
   "source": [
    "model.compile('SGD', loss='sparse_categorical_crossentropy', metrics=['acc'])\n",
    "model.fit(X_train, Y_train, epochs=5)"
   ]
  },
  {
   "cell_type": "code",
   "execution_count": 0,
   "metadata": {
    "colab": {
     "base_uri": "https://localhost:8080/",
     "height": 320
    },
    "colab_type": "code",
    "id": "cptOFuma8Yqr",
    "outputId": "ce2e9ad7-b896-4210-cd5c-e0ed0b0b6656"
   },
   "outputs": [
    {
     "data": {
      "text/plain": [
       "array([[3.1901317e-04, 1.1946832e-05, 1.5363103e-04, 1.3885703e-03,\n",
       "        8.9501074e-05, 2.4149164e-04, 3.2773303e-06, 9.9280906e-01,\n",
       "        5.7906167e-05, 4.9256049e-03]], dtype=float32)"
      ]
     },
     "execution_count": 21,
     "metadata": {
      "tags": []
     },
     "output_type": "execute_result"
    },
    {
     "data": {
      "image/png": "[encoded data removed]",
      "text/plain": [
       "<Figure size 432x288 with 1 Axes>"
      ]
     },
     "metadata": {
      "tags": []
     },
     "output_type": "display_data"
    }
   ],
   "source": [
    "plt.imshow(X_test[0])\n",
    "model.predict(X_test[0:1])"
   ]
  },
  {
   "cell_type": "code",
   "execution_count": 0,
   "metadata": {
    "colab": {},
    "colab_type": "code",
    "collapsed": true,
    "id": "s7Upobj68WFS"
   },
   "outputs": [],
   "source": [
    "model.evaluate(X_test, Y_test)"
   ]
  },
  {
   "cell_type": "markdown",
   "metadata": {},
   "source": [
    "< [Distance and Similarity](../ica07/Cluster_Analysis.ipynb) | Contents (TODO)\n",
    "\n",
    "<a href=\"https://colab.research.google.com/github/stephenbaek/bigdata/blob/master/in-class-assignments/ica08/Neural_Networks.ipynb\"><img align=\"left\" src=\"https://colab.research.google.com/assets/colab-badge.svg\" alt=\"Open in Colab\" title=\"Open and Execute in Google Colaboratory\"></a>"
   ]
  }
 ],
 "metadata": {
  "@webio": {
   "lastCommId": null,
   "lastKernelId": null
  },
  "colab": {
   "name": "BigData_NN.ipynb",
   "provenance": []
  },
  "kernelspec": {
   "display_name": "Python [conda env:bigdata]",
   "language": "python",
   "name": "conda-env-bigdata-py"
  },
  "language_info": {
   "codemirror_mode": {
    "name": "ipython",
    "version": 3
   },
   "file_extension": ".py",
   "mimetype": "text/x-python",
   "name": "python",
   "nbconvert_exporter": "python",
   "pygments_lexer": "ipython3",
   "version": "3.7.4"
  }
 },
 "nbformat": 4,
 "nbformat_minor": 1
}
