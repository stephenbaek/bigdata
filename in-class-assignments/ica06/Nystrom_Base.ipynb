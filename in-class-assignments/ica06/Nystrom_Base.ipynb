{
  "nbformat": 4,
  "nbformat_minor": 0,
  "metadata": {
    "colab": {
      "name": "Nystrom_Base.ipynb",
      "provenance": []
    },
    "kernelspec": {
      "name": "python3",
      "display_name": "Python 3"
    }
  },
  "cells": [
    {
      "cell_type": "code",
      "metadata": {
        "id": "066IBm4fMjza",
        "colab_type": "code",
        "colab": {}
      },
      "source": [
        "import pandas as pd\n",
        "import numpy as np"
      ],
      "execution_count": 0,
      "outputs": []
    },
    {
      "cell_type": "code",
      "metadata": {
        "id": "wmHcU7zrL8bO",
        "colab_type": "code",
        "colab": {}
      },
      "source": [
        "data = pd.read_csv('https://archive.ics.uci.edu/ml/machine-learning-databases/abalone/abalone.data', header=None,\n",
        "           names=['Sex', 'Length', 'Diameter', 'Height', 'Whole_Weight', 'Shucked_Weight', 'Viscera_Weight', 'Shell_Weight', 'Rings'])\n",
        "\n",
        "data.head(5)"
      ],
      "execution_count": 0,
      "outputs": []
    },
    {
      "cell_type": "code",
      "metadata": {
        "id": "sPkB0TtDPPJj",
        "colab_type": "code",
        "colab": {}
      },
      "source": [
        "data = pd.concat([pd.get_dummies(data.Sex), data.drop('Sex', axis=1)], axis=1)\n",
        "data.head(5)"
      ],
      "execution_count": 0,
      "outputs": []
    },
    {
      "cell_type": "code",
      "metadata": {
        "id": "zB0Rzk9yNfUm",
        "colab_type": "code",
        "colab": {}
      },
      "source": [
        "X = data.to_numpy()[:, :-1]\n",
        "Y = data.Rings.to_numpy()\n",
        "print(X)\n",
        "print(Y)"
      ],
      "execution_count": 0,
      "outputs": []
    },
    {
      "cell_type": "code",
      "metadata": {
        "id": "zPkDqabwVot2",
        "colab_type": "code",
        "colab": {}
      },
      "source": [
        "N = X.shape[0]\n",
        "d = X.shape[1]\n",
        "\n",
        "print(N, d)"
      ],
      "execution_count": 0,
      "outputs": []
    },
    {
      "cell_type": "code",
      "metadata": {
        "id": "keLHCD-RVXoJ",
        "colab_type": "code",
        "colab": {}
      },
      "source": [
        "# NAIVE Distance Matrix\n",
        "import time\n",
        "\n",
        "begin = time.time()\n",
        "D = np.zeros((N,N))\n",
        "for i in range(N):\n",
        "  for j in range(i+1, N):\n",
        "    D[i,j] = D[j,i] = np.sqrt(np.sum((X[j, :] - X[i, :])**2))\n",
        "elapsed = time.time() - begin\n",
        "\n",
        "print('Naive Method: It took {} seconds.'.format(elapsed))"
      ],
      "execution_count": 0,
      "outputs": []
    },
    {
      "cell_type": "code",
      "metadata": {
        "id": "L3lYoHNWX_gl",
        "colab_type": "code",
        "colab": {}
      },
      "source": [
        "# Implement Nystrom method here!"
      ],
      "execution_count": 0,
      "outputs": []
    },
    {
      "cell_type": "code",
      "metadata": {
        "id": "Cm4UI3TPYXZJ",
        "colab_type": "code",
        "colab": {}
      },
      "source": [
        "# Implement KNN here!\n",
        "\n",
        "from sklearn.model_selection import train_test_split\n",
        "trainX, queryX, trainY, queryY = train_test_split(X, Y, test_size=0.1)"
      ],
      "execution_count": 0,
      "outputs": []
    }
  ]
}