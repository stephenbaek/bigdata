{
 "cells": [
  {
   "cell_type": "markdown",
   "metadata": {},
   "source": [
    "# 1. Kaggle Datasets\n",
    "\n",
    "## 1.1. What is Kaggle?\n",
    "\n",
    "## 1.2. Getting Started\n",
    "\n",
    "### Sign up\n",
    "\n",
    "\n",
    "### Create an API Token\n",
    "\n",
    "![User settings menu](figures/kaggle_my_account.png)\n",
    "\n",
    "Scroll down a bit and you will find an API section. Click '`Create New API Token`' button.\n",
    "\n",
    "![Create New Kaggle API Token](figures/create_new_kaggle_api_token.png)\n",
    "\n",
    "\n",
    "### Copy JSON file"
   ]
  },
  {
   "cell_type": "code",
   "execution_count": 1,
   "metadata": {},
   "outputs": [
    {
     "name": "stdout",
     "output_type": "stream",
     "text": [
      "Requirement already satisfied: kaggle in c:\\users\\sbaek.iowa\\appdata\\local\\continuum\\anaconda3\\envs\\bigdata\\lib\\site-packages (1.5.5)\n",
      "Requirement already satisfied: python-slugify in c:\\users\\sbaek.iowa\\appdata\\local\\continuum\\anaconda3\\envs\\bigdata\\lib\\site-packages (from kaggle) (3.0.3)\n",
      "Requirement already satisfied: tqdm in c:\\users\\sbaek.iowa\\appdata\\local\\continuum\\anaconda3\\envs\\bigdata\\lib\\site-packages (from kaggle) (4.32.2)\n",
      "Requirement already satisfied: python-dateutil in c:\\users\\sbaek.iowa\\appdata\\local\\continuum\\anaconda3\\envs\\bigdata\\lib\\site-packages (from kaggle) (2.8.0)\n",
      "Requirement already satisfied: certifi in c:\\users\\sbaek.iowa\\appdata\\local\\continuum\\anaconda3\\envs\\bigdata\\lib\\site-packages (from kaggle) (2019.6.16)\n",
      "Requirement already satisfied: six>=1.10 in c:\\users\\sbaek.iowa\\appdata\\local\\continuum\\anaconda3\\envs\\bigdata\\lib\\site-packages (from kaggle) (1.12.0)\n",
      "Requirement already satisfied: requests in c:\\users\\sbaek.iowa\\appdata\\local\\continuum\\anaconda3\\envs\\bigdata\\lib\\site-packages (from kaggle) (2.22.0)\n",
      "Requirement already satisfied: urllib3<1.25,>=1.21.1 in c:\\users\\sbaek.iowa\\appdata\\local\\continuum\\anaconda3\\envs\\bigdata\\lib\\site-packages (from kaggle) (1.24.3)\n",
      "Requirement already satisfied: text-unidecode==1.2 in c:\\users\\sbaek.iowa\\appdata\\local\\continuum\\anaconda3\\envs\\bigdata\\lib\\site-packages (from python-slugify->kaggle) (1.2)\n",
      "Requirement already satisfied: idna<2.9,>=2.5 in c:\\users\\sbaek.iowa\\appdata\\local\\continuum\\anaconda3\\envs\\bigdata\\lib\\site-packages (from requests->kaggle) (2.8)\n",
      "Requirement already satisfied: chardet<3.1.0,>=3.0.2 in c:\\users\\sbaek.iowa\\appdata\\local\\continuum\\anaconda3\\envs\\bigdata\\lib\\site-packages (from requests->kaggle) (3.0.4)\n"
     ]
    }
   ],
   "source": [
    "# !pip uninstall kaggle\n",
    "!pip install kaggle"
   ]
  },
  {
   "cell_type": "code",
   "execution_count": 7,
   "metadata": {},
   "outputs": [],
   "source": [
    "import os\n",
    "from pathlib import Path\n",
    "home = str(Path.home())\n",
    "kaggle_root = os.path.join(*[home, '.kaggle'])\n",
    "os.mkdir(kaggle_root)"
   ]
  },
  {
   "cell_type": "code",
   "execution_count": 8,
   "metadata": {},
   "outputs": [],
   "source": [
    "import json\n",
    "token = {\"username\":\"bigdata\",\"key\":\"abcd1234\"}\n",
    "with open(os.path.join(*[kaggle_root, 'kaggle.json']), 'w') as file:\n",
    "    json.dump(token, file)"
   ]
  },
  {
   "cell_type": "code",
   "execution_count": 26,
   "metadata": {},
   "outputs": [
    {
     "name": "stdout",
     "output_type": "stream",
     "text": [
      "Downloading avocado-prices.zip to data\n",
      "\n"
     ]
    },
    {
     "name": "stderr",
     "output_type": "stream",
     "text": [
      "\n",
      "  0%|          | 0.00/629k [00:00<?, ?B/s]\n",
      "100%|##########| 629k/629k [00:00<00:00, 17.2MB/s]\n"
     ]
    }
   ],
   "source": [
    "!kaggle datasets download -d neuromusic/avocado-prices -p data"
   ]
  },
  {
   "cell_type": "code",
   "execution_count": 27,
   "metadata": {},
   "outputs": [
    {
     "name": "stdout",
     "output_type": "stream",
     "text": [
      "[IMPORTANT] No automatic unzipping supported on Windows.\n",
      "You have to open `File Explorer` and manually unzip `E:\\dev\\bigdata\\in-class-assignments\\ica02\\data\\avocado-prices.zip`\n",
      "Make sure `avocado.csv` file in the zip file is placed directly under `data` folder:\n",
      "|- ica02\n",
      "    |- data\n",
      "        |- avocado.csv\n",
      "    |- How_to_Read_and_Represent_Data.ipynb\n"
     ]
    }
   ],
   "source": [
    "import platform\n",
    "if platform.system() == 'Windows':\n",
    "    this_file_path = !echo %cd%\n",
    "    data_path = os.path.join(*[this_file_path[0], 'data'])\n",
    "    print('[IMPORTANT] No automatic unzipping supported on Windows.')\n",
    "    print('You have to open `File Explorer` and manually unzip `' + data_path + '\\\\avocado-prices.zip`')\n",
    "    print('Make sure `avocado.csv` file in the zip file is placed directly under `data` folder:')\n",
    "    print('|- ica02')\n",
    "    print('    |- data')\n",
    "    print('        |- avocado.csv')\n",
    "    print('    |- How_to_Read_and_Represent_Data.ipynb')\n",
    "else:\n",
    "    !unzip ./data/new-york-city-current-job-postings.zip ./data"
   ]
  },
  {
   "cell_type": "code",
   "execution_count": 17,
   "metadata": {},
   "outputs": [
    {
     "name": "stderr",
     "output_type": "stream",
     "text": [
      "'Expand-Archive' is not recognized as an internal or external command,\n",
      "operable program or batch file.\n"
     ]
    }
   ],
   "source": []
  },
  {
   "cell_type": "code",
   "execution_count": null,
   "metadata": {},
   "outputs": [],
   "source": []
  }
 ],
 "metadata": {
  "kernelspec": {
   "display_name": "Python 3",
   "language": "python",
   "name": "python3"
  },
  "language_info": {
   "codemirror_mode": {
    "name": "ipython",
    "version": 3
   },
   "file_extension": ".py",
   "mimetype": "text/x-python",
   "name": "python",
   "nbconvert_exporter": "python",
   "pygments_lexer": "ipython3",
   "version": "3.6.8"
  }
 },
 "nbformat": 4,
 "nbformat_minor": 1
}
