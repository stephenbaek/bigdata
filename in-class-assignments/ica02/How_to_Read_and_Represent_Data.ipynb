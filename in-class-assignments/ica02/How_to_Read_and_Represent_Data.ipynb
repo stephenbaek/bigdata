{
 "cells": [
  {
   "cell_type": "markdown",
   "metadata": {},
   "source": [
    "< [Hello World](../ica01/hello_world.ipynb) | Contents (TODO) | [Data Mining](../ica03/Data_Mining.ipynb) >\n",
    "\n",
    "<a href=\"https://colab.research.google.com/github/stephenbaek/bigdata/blob/master/in-class-assignments/ica02/How_to_Read_and_Represent_Data.ipynb\"><img align=\"left\" src=\"https://colab.research.google.com/assets/colab-badge.svg\" alt=\"Open in Colab\" title=\"Open and Execute in Google Colaboratory\"></a>"
   ]
  },
  {
   "cell_type": "markdown",
   "metadata": {},
   "source": [
    "# 1. Kaggle Datasets\n",
    "\n",
    "## 1.1. What is Kaggle?\n",
    "\n",
    "## 1.2. Getting Started\n",
    "\n",
    "### Sign up\n",
    "\n",
    "\n",
    "### Create an API Token\n",
    "\n",
    "![User settings menu](figures/kaggle_my_account.png)\n",
    "\n",
    "Scroll down a bit and you will find an API section. Click '`Create New API Token`' button.\n",
    "\n",
    "![Create New Kaggle API Token](figures/create_new_kaggle_api_token.png)\n",
    "\n",
    "\n",
    "### Copy JSON file"
   ]
  },
  {
   "cell_type": "code",
   "execution_count": null,
   "metadata": {},
   "outputs": [],
   "source": [
    "# This is how you install a python library\n",
    "!pip install kaggle"
   ]
  },
  {
   "cell_type": "code",
   "execution_count": null,
   "metadata": {},
   "outputs": [],
   "source": [
    "# type your Kaggle API token here\n",
    "token = {\"username\":\"bigdata\",\"key\":\"a1b2c3d4\"}"
   ]
  },
  {
   "cell_type": "code",
   "execution_count": null,
   "metadata": {},
   "outputs": [],
   "source": [
    "# This cell is only for advanced users. Run this cell and you can safely move on to the next cell\n",
    "import os\n",
    "from pathlib import Path\n",
    "import json\n",
    "import platform\n",
    "\n",
    "# creates and places the token file at a desired location\n",
    "home = str(Path.home())\n",
    "kaggle_root = os.path.join(*[home, '.kaggle'])\n",
    "os.mkdir(kaggle_root)\n",
    "with open(os.path.join(*[kaggle_root, 'kaggle.json']), 'w') as file:\n",
    "    json.dump(token, file)\n",
    "\n",
    "# make the key file accessible only to the owner\n",
    "if platform.system() == 'Windows':\n",
    "    !attrib -R {os.path.join(*[kaggle_root, 'kaggle.json'])}\n",
    "else:\n",
    "    !chmod 600 {os.path.join(*[kaggle_root, 'kaggle.json'])}"
   ]
  },
  {
   "cell_type": "code",
   "execution_count": null,
   "metadata": {},
   "outputs": [],
   "source": [
    "# This is how you download datasets from Kaggle\n",
    "# !kaggle datasets download -d <path-to-dataset> -p <download-location>\n",
    "#    <path-to-dataset> is what comes after http://www.kaggle.com/ in the dataset URL.\n",
    "#                      for example, the avocado dataset sits under https://www.kaggle.com/neuromusic/avocado-prices\n",
    "#    <download-location> is where you want to download data.\n",
    "!kaggle datasets download -d neuromusic/avocado-prices -p data"
   ]
  },
  {
   "cell_type": "code",
   "execution_count": null,
   "metadata": {},
   "outputs": [],
   "source": [
    "# Unzipping files.\n",
    "if platform.system() == 'Windows':\n",
    "    this_file_path = !echo %cd%\n",
    "    data_path = os.path.join(*[this_file_path[0], 'data'])\n",
    "    print('[IMPORTANT] No automatic unzipping supported on Windows.')\n",
    "    print('You have to open `File Explorer` and manually unzip `' + data_path + '\\\\avocado-prices.zip`')\n",
    "    print('Make sure `avocado.csv` file in the zip file is placed directly under `data` folder:')\n",
    "    print('|- ica02')\n",
    "    print('    |- data')\n",
    "    print('        |- avocado.csv')\n",
    "    print('    |- How_to_Read_and_Represent_Data.ipynb')\n",
    "else:\n",
    "    !unzip ./data/new-york-city-current-job-postings.zip ./data"
   ]
  },
  {
   "cell_type": "code",
   "execution_count": null,
   "metadata": {},
   "outputs": [],
   "source": [
    "import pandas as pd\n",
    "\n",
    "DF = pd.read_csv('data/avocado.csv')\n",
    "DF.head(5)"
   ]
  },
  {
   "cell_type": "code",
   "execution_count": null,
   "metadata": {},
   "outputs": [],
   "source": [
    "DF['Total Bags']"
   ]
  },
  {
   "cell_type": "markdown",
   "metadata": {},
   "source": [
    "< [Hello World](../ica01/hello_world.ipynb) | Contents (TODO) | [Data Mining](../ica03/Data_Mining.ipynb) >\n",
    "\n",
    "<a href=\"https://colab.research.google.com/github/stephenbaek/bigdata/blob/master/in-class-assignments/ica02/How_to_Read_and_Represent_Data.ipynb\"><img align=\"left\" src=\"https://colab.research.google.com/assets/colab-badge.svg\" alt=\"Open in Colab\" title=\"Open and Execute in Google Colaboratory\"></a>"
   ]
  }
 ],
 "metadata": {
  "kernelspec": {
   "display_name": "Python 3",
   "language": "python",
   "name": "python3"
  },
  "language_info": {
   "codemirror_mode": {
    "name": "ipython",
    "version": 3
   },
   "file_extension": ".py",
   "mimetype": "text/x-python",
   "name": "python",
   "nbconvert_exporter": "python",
   "pygments_lexer": "ipython3",
   "version": "3.7.3"
  }
 },
 "nbformat": 4,
 "nbformat_minor": 1
}
