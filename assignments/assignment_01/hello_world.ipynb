{
 "cells": [
  {
   "cell_type": "markdown",
   "metadata": {},
   "source": [
    "TODO: Add a navigation bar here\n",
    "[![Open in Google Colab](https://colab.research.google.com/assets/colab-badge.svg)](https://colab.research.google.com/github/stephenbaek/bigdata/blob/master/assignments/assignment_01/hello_world.ipynb)\n",
    "\n",
    "# Hello World!\n",
    "\n",
    "This notebook is designed to provide a quick and dirty introduction to Python programming. If you are already familiar with Python programming, you can safely skip the sections below and jump directly to `assignment.ipynb` in the same folder with this one. This notebook is designed for complete newbies (=absolutely zero experience with Python) to help them quickly dive into the course materials for the rest of the course. This being said, it is NOT a purpose of this notebook to equip you with a comprehensive working knowledge and coding skills on Python. For more structured learning materials for Python, I strongly encourage you to purchase a book, take a (online) course, etc.\n",
    "\n",
    "Also, I hereby acknowledge that many of the codes and explanations I used in this notebook are originally from [Python Data Science Handbook](http://shop.oreilly.com/product/0636920034919.do) by Jake VanderPlas. The original codes and contents are available on their [GitHub](https://github.com/jakevdp/PythonDataScienceHandbook)."
   ]
  },
  {
   "cell_type": "markdown",
   "metadata": {},
   "source": [
    "## Jupyter Notebook\n",
    "\n",
    "This notebook that you are reading right now is what is called a Jupyter notebook. It's actually a pretty cool way of doing note keeping on your experiments, as it allows you to put nicely formatted notes along with source codes executable on the fly. To get started, click the code below and hit `ctrl + enter` (or if you're using Mac, `cmd + enter`) and see what happens."
   ]
  },
  {
   "cell_type": "code",
   "execution_count": 4,
   "metadata": {},
   "outputs": [
    {
     "name": "stdout",
     "output_type": "stream",
     "text": [
      "Hello World!\n"
     ]
    }
   ],
   "source": [
    "print('Hello World!')"
   ]
  },
  {
   "cell_type": "markdown",
   "metadata": {},
   "source": [
    "Did you notice that the notebook printed out a message `Hello World!`? Basically, a Jupyter notebook is comprised of \"small blocks of things\" called *cells*. The one that you just ran is a cell containing a code and it's called a *code cell*. `ctrl + enter` (or `cmd + enter` for Mac) is usually how you run a code cell. Alternatively, you can hit `shift + enter`, which in this case, executes the code cell and move the focus to the next cell.\n",
    "\n",
    "There's another type of cell, which is a *text cell* or a *markdown cell*. The very paragraph that you are reading right now is actually a text cell. Text cells are for making notes to your codes essentially, but there can be a lot of different ways of using them. Text cells ues a text scripting language called 'Markdown'. Markdown is actually pretty simple to learn and for most of you, looking at [this cheat-sheet](https://www.markdownguide.org/cheat-sheet) should be just enough. Below is an example of a text cell. Double click it and change some texts there."
   ]
  },
  {
   "cell_type": "markdown",
   "metadata": {},
   "source": [
    "---\n",
    "### This is a text cell\n",
    "In a text cell, you can render texts in **boldface** or *italicized*.\n",
    "You can also ~~strikethrough~~ words.\n",
    "> You can also quote someone like this.\n",
    "\n",
    "1. or you can create\n",
    "2. an ordered\n",
    "3. list\n",
    "\n",
    "\n",
    "- or even\n",
    "- an unordered\n",
    "- list\n",
    "\n",
    "You can render sample codes like this:\n",
    "```cpp\n",
    "include <stdio>\n",
    "int main(void){\n",
    "    std::cout << \"Hello World!\" << std::endl;\n",
    "    return 0;\n",
    "}\n",
    "```\n",
    "or, inline, `myVar = 3`.\n",
    "\n",
    "You can also create a [hyperlink](http://www.stephenbaek.com),\n",
    "\n",
    "or include an image ![iowa](https://lh5.googleusercontent.com/p/AF1QipOg3dTb5dkfYhENpjJeplro3cLVaNLiQvhMHL8i=w213-h160-k-no)\n",
    "\n",
    "You can report some results in a table:\n",
    "\n",
    "| Table | Column |\n",
    "| ----- | ------ |\n",
    "| Row 1 |  30 % |\n",
    "| Row 2 |  70 % |\n",
    "\n",
    "\n",
    "You can also build a laundry list like this:\n",
    "- [ ] Do homework\n",
    "- [ ] Buy some cookies\n",
    "- [x] Steve: Prepare a lecture material\n",
    "- [ ] Liz: Practice presentation"
   ]
  },
  {
   "cell_type": "markdown",
   "metadata": {},
   "source": [
    "## Data Types in Python\n",
    "\n",
    "To be a good data scientist, you will be required to have a firm grasp on how data is stored and manipulated.\n",
    "This section outlines and contrasts how arrays of data are handled in the Python language.\n",
    "\n",
    "Users of Python are often drawn-in by its ease of use, one piece of which is dynamic typing. While a statically-typed language like C or Java requires each variable to be explicitly declared, a dynamically-typed language like Python and MATLAB skips this specification. For example, in C you might specify a particular operation as follows:\n",
    "```cpp\n",
    "/* C code */\n",
    "int result = 0;\n",
    "for(int i=0; i<100; i++){\n",
    "    result += i;\n",
    "}\n",
    "```"
   ]
  },
  {
   "cell_type": "code",
   "execution_count": null,
   "metadata": {},
   "outputs": [],
   "source": []
  },
  {
   "cell_type": "markdown",
   "metadata": {},
   "source": [
    "## Introduction to NumPy\n",
    "\n",
    "TODO: Add an explanation here."
   ]
  },
  {
   "cell_type": "code",
   "execution_count": 2,
   "metadata": {
    "scrolled": true
   },
   "outputs": [
    {
     "data": {
      "text/plain": [
       "'1.14.2'"
      ]
     },
     "execution_count": 2,
     "metadata": {},
     "output_type": "execute_result"
    }
   ],
   "source": [
    "import numpy\n",
    "numpy.__version__"
   ]
  },
  {
   "cell_type": "markdown",
   "metadata": {},
   "source": [
    "By convention, you'll find that most people in the real-world will import NumPy using np as an alias:"
   ]
  },
  {
   "cell_type": "code",
   "execution_count": 3,
   "metadata": {},
   "outputs": [],
   "source": [
    "import numpy as np"
   ]
  },
  {
   "cell_type": "markdown",
   "metadata": {},
   "source": [
    "In fact, we will use `np` as an alias throughout the whole semester."
   ]
  },
  {
   "cell_type": "code",
   "execution_count": null,
   "metadata": {},
   "outputs": [],
   "source": []
  },
  {
   "cell_type": "code",
   "execution_count": null,
   "metadata": {},
   "outputs": [],
   "source": []
  },
  {
   "cell_type": "code",
   "execution_count": null,
   "metadata": {},
   "outputs": [],
   "source": []
  },
  {
   "cell_type": "code",
   "execution_count": null,
   "metadata": {},
   "outputs": [],
   "source": []
  },
  {
   "cell_type": "code",
   "execution_count": null,
   "metadata": {},
   "outputs": [],
   "source": []
  },
  {
   "cell_type": "code",
   "execution_count": null,
   "metadata": {},
   "outputs": [],
   "source": []
  },
  {
   "cell_type": "code",
   "execution_count": null,
   "metadata": {},
   "outputs": [],
   "source": []
  },
  {
   "cell_type": "code",
   "execution_count": null,
   "metadata": {},
   "outputs": [],
   "source": []
  },
  {
   "cell_type": "markdown",
   "metadata": {},
   "source": [
    "TODO: Add a navigation bar here"
   ]
  }
 ],
 "metadata": {
  "kernelspec": {
   "display_name": "Python 3",
   "language": "python",
   "name": "python3"
  },
  "language_info": {
   "codemirror_mode": {
    "name": "ipython",
    "version": 3
   },
   "file_extension": ".py",
   "mimetype": "text/x-python",
   "name": "python",
   "nbconvert_exporter": "python",
   "pygments_lexer": "ipython3",
   "version": "3.6.8"
  }
 },
 "nbformat": 4,
 "nbformat_minor": 2
}
